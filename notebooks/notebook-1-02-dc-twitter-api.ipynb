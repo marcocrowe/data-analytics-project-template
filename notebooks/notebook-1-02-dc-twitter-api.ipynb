{
 "cells": [
  {
   "cell_type": "markdown",
   "id": "f0ab0e3b",
   "metadata": {},
   "source": [
    "## Download Twitter Data"
   ]
  },
  {
   "cell_type": "markdown",
   "id": "d2f5058f",
   "metadata": {},
   "source": [
    "<!--\n",
    "import data_analytics.github as github\n",
    "print(github.create_jupyter_notebook_header(\"markcrowe-com\", \"data-analytics-project-template\", \"notebooks/notebook-1-02-dc-twitter-api.ipynb\", \"master\")\n",
    "-->\n",
    "<table style=\"margin: auto;\"><tr><td><a href=\"https://mybinder.org/v2/gh/markcrowe-com/data-analytics-project-template/master?filepath=notebooks/notebook-1-02-dc-twitter-api.ipynb\" target=\"_parent\"><img src=\"https://mybinder.org/badge_logo.svg\" alt=\"Open In Binder\"/></a></td><td>online editors</td><td><a href=\"https://colab.research.google.com/github/markcrowe-com/data-analytics-project-template/blob/master/notebooks/notebook-1-02-dc-twitter-api.ipynb\" target=\"_parent\"><img src=\"https://colab.research.google.com/assets/colab-badge.svg\" alt=\"Open In Colab\"/></a></td></tr></table>"
   ]
  },
  {
   "cell_type": "markdown",
   "id": "7fc28c3a",
   "metadata": {},
   "source": [
    "> \"It took exhaustive research, sifting through teraquads of data, separating fact from rumor, but eventually I arrived at the truth.\" - Captain Kathryn Janeway, 2376"
   ]
  },
  {
   "cell_type": "markdown",
   "id": "9e26bce9",
   "metadata": {},
   "source": [
    "### Setup"
   ]
  },
  {
   "cell_type": "markdown",
   "id": "f81a6fd8",
   "metadata": {},
   "source": [
    "Import required third party Python libraries, import supporting functions and sets up data source file paths."
   ]
  },
  {
   "cell_type": "code",
   "execution_count": 1,
   "id": "9a5530b8",
   "metadata": {
    "ExecuteTime": {
     "end_time": "2023-01-11T09:31:44.191829Z",
     "start_time": "2023-01-11T09:31:44.172826Z"
    }
   },
   "outputs": [],
   "source": [
    "# Local\n",
    "#%pip install -r notebook-1-02-dc-twitter-api/requirements.txt\n",
    "# Remote option\n",
    "#%pip install -r https://raw.githubusercontent.com/markcrowe-com/data-analytics-project-template/notebook-1-02-dc-twitter-api/requirements.txt\n",
    "#Options: --quiet --user"
   ]
  },
  {
   "cell_type": "code",
   "execution_count": 2,
   "id": "afb242e6",
   "metadata": {
    "ExecuteTime": {
     "end_time": "2023-01-11T09:31:45.351826Z",
     "start_time": "2023-01-11T09:31:44.195827Z"
    }
   },
   "outputs": [],
   "source": [
    "from configparser import ConfigParser\n",
    "from IPython.display import clear_output\n",
    "from pandas import DataFrame\n",
    "import tweepy"
   ]
  },
  {
   "cell_type": "markdown",
   "id": "b14001cc",
   "metadata": {},
   "source": [
    "#### Function"
   ]
  },
  {
   "cell_type": "code",
   "execution_count": 3,
   "id": "116285d3",
   "metadata": {
    "ExecuteTime": {
     "end_time": "2023-01-11T09:31:45.383823Z",
     "start_time": "2023-01-11T09:31:45.356827Z"
    }
   },
   "outputs": [],
   "source": [
    "MAX_COUNT: int = 200  # 200 is the maximum allowed count\n",
    "EXTENDED_MODE: str = \"extended\"  # to keep full_text\n",
    "\n",
    "def download_user_tweets(o_auth_handler: tweepy.OAuthHandler,\n",
    "                         screen_name: str,\n",
    "                         include_re_tweets: bool = False,\n",
    "                         tweet_count: int = MAX_COUNT,\n",
    "                         tweet_mode: str = EXTENDED_MODE,\n",
    "                         tweepy_api_wait_on_rate_limit: bool = True,\n",
    "                         print_status_updates: bool = True):\n",
    "    if tweet_count > MAX_COUNT:\n",
    "        tweet_count = MAX_COUNT\n",
    "\n",
    "    tweepy_api: tweepy.API = tweepy.API(\n",
    "        o_auth_handler, wait_on_rate_limit=tweepy_api_wait_on_rate_limit)\n",
    "\n",
    "    tweets_list: list[tweepy.models.Status] = []\n",
    "    oldest_id = None\n",
    "    while True:\n",
    "        tweets_result_set = tweepy_api.user_timeline(screen_name=screen_name,\n",
    "                                                     count=tweet_count,\n",
    "                                                     include_rts=include_re_tweets,\n",
    "                                                     max_id=oldest_id,\n",
    "                                                     tweet_mode=tweet_mode)\n",
    "        if len(tweets_result_set) == 0:\n",
    "            break\n",
    "        oldest_id:int = tweets_result_set[-1].id - 1\n",
    "        tweets_list.extend(tweets_result_set)\n",
    "        if print_status_updates:\n",
    "            clear_output(wait=True)\n",
    "            print(f'Number of tweets downloaded so far {len(tweets_list)}')\n",
    "    return tweets_list"
   ]
  },
  {
   "cell_type": "markdown",
   "id": "677e8fd5",
   "metadata": {},
   "source": [
    "### Twitter config"
   ]
  },
  {
   "cell_type": "markdown",
   "id": "fe2d8448",
   "metadata": {},
   "source": [
    "<https://python-twitter.readthedocs.io/en/latest/getting_started.html>  \n",
    "\n",
    "\n",
    "You need to have a developer account: <https://developer.twitter.com/en/portal/petition/essential/basic-info>\n",
    "\n",
    "And apply for elevated access.\n",
    "<https://developer.twitter.com/en/portal/products/elevated>"
   ]
  },
  {
   "cell_type": "markdown",
   "id": "e2a7c0b3",
   "metadata": {},
   "source": [
    "See [twitter-config.ini.sample](twitter-config.ini.sample) for the ini file format."
   ]
  },
  {
   "cell_type": "code",
   "execution_count": 4,
   "id": "082f7f56",
   "metadata": {
    "ExecuteTime": {
     "end_time": "2023-01-11T09:31:45.398824Z",
     "start_time": "2023-01-11T09:31:45.386827Z"
    }
   },
   "outputs": [],
   "source": [
    "config_filepath: str = \"twitter-config.ini\"\n",
    "config_parser: ConfigParser = ConfigParser()\n",
    "config_parser.read(config_filepath)\n",
    "\n",
    "access_token: str = config_parser[\"Twitter\"][\"AccessToken\"]\n",
    "access_token_secret: str = config_parser[\"Twitter\"][\"AccessTokenSecret\"]\n",
    "consumer_key: str = config_parser[\"Twitter\"][\"ApiKey\"]\n",
    "consumer_secret: str = config_parser[\"Twitter\"][\"ApiKeySecret\"]"
   ]
  },
  {
   "cell_type": "code",
   "execution_count": 5,
   "id": "585cbf26",
   "metadata": {
    "ExecuteTime": {
     "end_time": "2023-01-11T09:31:45.414825Z",
     "start_time": "2023-01-11T09:31:45.403827Z"
    }
   },
   "outputs": [],
   "source": [
    "o_auth_handler: tweepy.OAuthHandler = tweepy.OAuthHandler(consumer_key, consumer_secret)\n",
    "o_auth_handler.set_access_token(access_token, access_token_secret)"
   ]
  },
  {
   "cell_type": "markdown",
   "id": "1e9d8ecf",
   "metadata": {},
   "source": [
    "### Download Irish Farming's Tweets\n",
    "\n",
    "Dept of Agriculture, Food and the Marine:  <a href=\"https://twitter.com/agriculture_ie\" target=\"_new\">@agriculture_ie</a>"
   ]
  },
  {
   "cell_type": "code",
   "execution_count": 6,
   "id": "a71fea91",
   "metadata": {
    "ExecuteTime": {
     "end_time": "2023-01-11T09:32:10.408823Z",
     "start_time": "2023-01-11T09:31:45.418827Z"
    }
   },
   "outputs": [
    {
     "name": "stdout",
     "output_type": "stream",
     "text": [
      "Number of tweets downloaded so far 3250\n"
     ]
    }
   ],
   "source": [
    "screen_name: str = \"agriculture_ie\"  #Dept of Agriculture, Food and the Marine\n",
    "user_tweets: list[tweepy.models.Status] = download_user_tweets(o_auth_handler, screen_name, True)"
   ]
  },
  {
   "cell_type": "markdown",
   "id": "93e74515",
   "metadata": {
    "ExecuteTime": {
     "end_time": "2023-01-11T06:53:20.169748Z",
     "start_time": "2023-01-11T06:53:20.154753Z"
    }
   },
   "source": [
    "Print 3 Top Tweets"
   ]
  },
  {
   "cell_type": "code",
   "execution_count": 7,
   "id": "ea075597",
   "metadata": {
    "ExecuteTime": {
     "end_time": "2023-01-11T09:32:10.424826Z",
     "start_time": "2023-01-11T09:32:10.410823Z"
    }
   },
   "outputs": [
    {
     "name": "stdout",
     "output_type": "stream",
     "text": [
      "Id: 1612874586684592135, Timestamp:2023-01-10 18:10:41+00:00\n",
      "RT @teagasc: The Minister of State @agriculture_ie with special responsibility for Farm Safety, @martinheydonfg welcomed the recent re-publ…\n",
      "\n",
      "Id: 1612854180372254721, Timestamp:2023-01-10 16:49:36+00:00\n",
      "💬#HaveYourSay on a new public consultation to inform the next phase of the development of the Deer Management Strategy.🦌\n",
      "\n",
      "🗓️Closing date for submissions is 5pm on Friday, February 10, 2023.\n",
      "\n",
      "🗳️https://t.co/ZCtqaO2EcR https://t.co/E0OkBbaMRD\n",
      "\n",
      "Id: 1612821982428659712, Timestamp:2023-01-10 14:41:40+00:00\n",
      "Minister @McConalogue has met fishing industry representatives in the @MarineInst in Galway to discuss EU and Norway negotiations and the implementation of Sea Fisheries Taskforce proposal for voluntary decommissioning scheme.\n",
      "\n",
      "📍 https://t.co/KWN0CHWIhK https://t.co/g5M5Q9L1Wt\n",
      "\n"
     ]
    }
   ],
   "source": [
    "tweet_status: tweepy.models.Status\n",
    "for tweet_status in user_tweets[:3]:\n",
    "    print(f\"Id: {tweet_status.id}, Timestamp:{tweet_status.created_at}\")\n",
    "    print(tweet_status.full_text.rstrip())\n",
    "    print()"
   ]
  },
  {
   "cell_type": "markdown",
   "id": "3e3faabb",
   "metadata": {},
   "source": [
    "### Extract fields of interest from Tweets"
   ]
  },
  {
   "cell_type": "code",
   "execution_count": 8,
   "id": "e5a1e684",
   "metadata": {
    "ExecuteTime": {
     "end_time": "2023-01-11T09:32:10.472834Z",
     "start_time": "2023-01-11T09:32:10.428828Z"
    }
   },
   "outputs": [],
   "source": [
    "selected_tweet_fields_list: list[list[any]] = [[\n",
    "    tweet.id_str,\n",
    "    tweet.user.screen_name, \n",
    "    tweet.created_at,\n",
    "    tweet.favorite_count, \n",
    "    tweet.retweet_count,\n",
    "    tweet.full_text.encode(\"utf-8\").decode(\"utf-8\")\n",
    "] for _, tweet in enumerate(user_tweets)]"
   ]
  },
  {
   "cell_type": "markdown",
   "id": "2bfded8c",
   "metadata": {
    "ExecuteTime": {
     "end_time": "2023-01-11T09:37:13.574830Z",
     "start_time": "2023-01-11T09:37:13.560827Z"
    }
   },
   "source": [
    "### Save Asset"
   ]
  },
  {
   "cell_type": "code",
   "execution_count": 9,
   "id": "0a0ad812",
   "metadata": {
    "ExecuteTime": {
     "end_time": "2023-01-11T09:32:10.646826Z",
     "start_time": "2023-01-11T09:32:10.476827Z"
    }
   },
   "outputs": [
    {
     "data": {
      "text/html": [
       "<div>\n",
       "<style scoped>\n",
       "    .dataframe tbody tr th:only-of-type {\n",
       "        vertical-align: middle;\n",
       "    }\n",
       "\n",
       "    .dataframe tbody tr th {\n",
       "        vertical-align: top;\n",
       "    }\n",
       "\n",
       "    .dataframe thead th {\n",
       "        text-align: right;\n",
       "    }\n",
       "</style>\n",
       "<table border=\"1\" class=\"dataframe\">\n",
       "  <thead>\n",
       "    <tr style=\"text-align: right;\">\n",
       "      <th></th>\n",
       "      <th>id</th>\n",
       "      <th>screen_name</th>\n",
       "      <th>created_at</th>\n",
       "      <th>favorite_count</th>\n",
       "      <th>retweet_count</th>\n",
       "      <th>text</th>\n",
       "    </tr>\n",
       "  </thead>\n",
       "  <tbody>\n",
       "    <tr>\n",
       "      <th>0</th>\n",
       "      <td>1612874586684592135</td>\n",
       "      <td>agriculture_ie</td>\n",
       "      <td>2023-01-10 18:10:41+00:00</td>\n",
       "      <td>0</td>\n",
       "      <td>5</td>\n",
       "      <td>RT @teagasc: The Minister of State @agricultur...</td>\n",
       "    </tr>\n",
       "    <tr>\n",
       "      <th>1</th>\n",
       "      <td>1612854180372254721</td>\n",
       "      <td>agriculture_ie</td>\n",
       "      <td>2023-01-10 16:49:36+00:00</td>\n",
       "      <td>4</td>\n",
       "      <td>2</td>\n",
       "      <td>💬#HaveYourSay on a new public consultation to ...</td>\n",
       "    </tr>\n",
       "    <tr>\n",
       "      <th>2</th>\n",
       "      <td>1612821982428659712</td>\n",
       "      <td>agriculture_ie</td>\n",
       "      <td>2023-01-10 14:41:40+00:00</td>\n",
       "      <td>4</td>\n",
       "      <td>3</td>\n",
       "      <td>Minister @McConalogue has met fishing industry...</td>\n",
       "    </tr>\n",
       "  </tbody>\n",
       "</table>\n",
       "</div>"
      ],
      "text/plain": [
       "                    id     screen_name                created_at  \\\n",
       "0  1612874586684592135  agriculture_ie 2023-01-10 18:10:41+00:00   \n",
       "1  1612854180372254721  agriculture_ie 2023-01-10 16:49:36+00:00   \n",
       "2  1612821982428659712  agriculture_ie 2023-01-10 14:41:40+00:00   \n",
       "\n",
       "   favorite_count  retweet_count  \\\n",
       "0               0              5   \n",
       "1               4              2   \n",
       "2               4              3   \n",
       "\n",
       "                                                text  \n",
       "0  RT @teagasc: The Minister of State @agricultur...  \n",
       "1  💬#HaveYourSay on a new public consultation to ...  \n",
       "2  Minister @McConalogue has met fishing industry...  "
      ]
     },
     "execution_count": 9,
     "metadata": {},
     "output_type": "execute_result"
    }
   ],
   "source": [
    "tweet_column_names: list[str] = [\n",
    "    \"id\",\n",
    "    \"screen_name\",\n",
    "    \"created_at\",\n",
    "    \"favorite_count\",\n",
    "    \"retweet_count\",\n",
    "    \"text\"\n",
    "]\n",
    "dataframe: DataFrame = DataFrame(selected_tweet_fields_list, columns=tweet_column_names)\n",
    "dataframe.to_csv('./../assets/twitter-agriculture-ie.csv', index=False)\n",
    "dataframe.head(3)"
   ]
  },
  {
   "cell_type": "markdown",
   "id": "b114e089",
   "metadata": {
    "ExecuteTime": {
     "end_time": "2023-01-11T07:26:27.244466Z",
     "start_time": "2023-01-11T07:26:27.223466Z"
    }
   },
   "source": [
    "Author &copy; 2022 <a href=\"https://github.com/markcrowe-com\" target=\"_parent\">Mark Crowe</a>. All rights reserved."
   ]
  }
 ],
 "metadata": {
  "kernelspec": {
   "display_name": "Python 3 (ipykernel)",
   "language": "python",
   "name": "python3"
  },
  "language_info": {
   "codemirror_mode": {
    "name": "ipython",
    "version": 3
   },
   "file_extension": ".py",
   "mimetype": "text/x-python",
   "name": "python",
   "nbconvert_exporter": "python",
   "pygments_lexer": "ipython3",
   "version": "3.9.15"
  },
  "toc": {
   "base_numbering": 1,
   "nav_menu": {},
   "number_sections": false,
   "sideBar": true,
   "skip_h1_title": false,
   "title_cell": "Table of Contents",
   "title_sidebar": "Contents",
   "toc_cell": false,
   "toc_position": {
    "height": "calc(100% - 180px)",
    "left": "10px",
    "top": "150px",
    "width": "337px"
   },
   "toc_section_display": true,
   "toc_window_display": true
  },
  "vscode": {
   "interpreter": {
    "hash": "a077222d77dfe082b8f1dd562ad70e458ac2ab76993a0b248ab0476e32e9e8dd"
   }
  }
 },
 "nbformat": 4,
 "nbformat_minor": 5
}
