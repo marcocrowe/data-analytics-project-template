{
 "cells": [
  {
   "cell_type": "markdown",
   "id": "f0ab0e3b",
   "metadata": {},
   "source": [
    "## Download Twitter Data"
   ]
  },
  {
   "cell_type": "markdown",
   "id": "d2f5058f",
   "metadata": {},
   "source": [
    "<!--\n",
    "import data_analytics.github as github\n",
    "print(github.create_jupyter_notebook_header(\"markcrowe-com\", \"data-analytics-project-template\", \"notebooks/notebook-1-02-dc-twitter-api.ipynb\", \"master\")\n",
    "-->\n",
    "<table style=\"margin: auto;\"><tr><td><a href=\"https://mybinder.org/v2/gh/markcrowe-com/data-analytics-project-template/master?filepath=notebooks/notebook-1-02-dc-twitter-api.ipynb\" target=\"_parent\"><img src=\"https://mybinder.org/badge_logo.svg\" alt=\"Open In Binder\"/></a></td><td>online editors</td><td><a href=\"https://colab.research.google.com/github/markcrowe-com/data-analytics-project-template/blob/master/notebooks/notebook-1-02-dc-twitter-api.ipynb\" target=\"_parent\"><img src=\"https://colab.research.google.com/assets/colab-badge.svg\" alt=\"Open In Colab\"/></a></td></tr></table>"
   ]
  },
  {
   "cell_type": "markdown",
   "id": "f81a6fd8",
   "metadata": {},
   "source": [
    "### Setup\n",
    "Import required third party Python libraries, import supporting functions and sets up data source file paths."
   ]
  },
  {
   "cell_type": "code",
   "execution_count": 1,
   "id": "9a5530b8",
   "metadata": {
    "ExecuteTime": {
     "end_time": "2022-03-06T11:09:33.748242Z",
     "start_time": "2022-03-06T11:09:33.739244Z"
    }
   },
   "outputs": [],
   "source": [
    "# Local\n",
    "#!pip install -r script/requirements.txt\n",
    "# Remote option\n",
    "#!pip install -r https://raw.githubusercontent.com/markcrowe-com/data-analytics-project-template/requirements.txt\n",
    "#Options: --quiet --user"
   ]
  },
  {
   "cell_type": "code",
   "execution_count": 2,
   "id": "afb242e6",
   "metadata": {
    "ExecuteTime": {
     "end_time": "2022-03-06T11:09:41.014936Z",
     "start_time": "2022-03-06T11:09:37.339219Z"
    }
   },
   "outputs": [],
   "source": [
    "from configparser import ConfigParser\n",
    "from pandas import DataFrame\n",
    "import tweepy"
   ]
  },
  {
   "cell_type": "markdown",
   "id": "1e9d8ecf",
   "metadata": {},
   "source": [
    "### Twitter\n",
    "#### Irish Farming Accounts\n",
    "\n",
    "Dept of Agriculture, Food and the Marine:  <a href=\"https://twitter.com/agriculture_ie\" target=\"_new\">@agriculture_ie</a>  \n",
    "Leading the sustainable development of Ireland’s agri-food, forestry and marine sectors."
   ]
  },
  {
   "cell_type": "markdown",
   "id": "e2a7c0b3",
   "metadata": {},
   "source": [
    "See [config.ini.sample](config.ini.sample) for the ini file format."
   ]
  },
  {
   "cell_type": "code",
   "execution_count": 3,
   "id": "082f7f56",
   "metadata": {
    "ExecuteTime": {
     "end_time": "2022-01-27T05:47:40.320488Z",
     "start_time": "2022-01-27T05:47:40.295487Z"
    }
   },
   "outputs": [],
   "source": [
    "config_filepath = \"config.ini\"\n",
    "config_parser = ConfigParser()\n",
    "config_parser.read(config_filepath)\n",
    "\n",
    "access_token = config_parser[\"Twitter\"][\"AccessToken\"]\n",
    "access_token_secret = config_parser[\"Twitter\"][\"AccessTokenSecret\"]\n",
    "consumer_key = config_parser[\"Twitter\"][\"ApiKey\"]\n",
    "consumer_secret = config_parser[\"Twitter\"][\"ApiKeySecret\"]"
   ]
  },
  {
   "cell_type": "markdown",
   "id": "fe2d8448",
   "metadata": {},
   "source": [
    "<https://python-twitter.readthedocs.io/en/latest/getting_started.html>  \n",
    "\n",
    "\n",
    "You need to have a developer account: <https://developer.twitter.com/en/portal/petition/essential/basic-info>\n",
    "\n",
    "And apply for elevated access.\n",
    "<https://developer.twitter.com/en/portal/products/elevated>"
   ]
  },
  {
   "cell_type": "code",
   "execution_count": 4,
   "id": "585cbf26",
   "metadata": {
    "ExecuteTime": {
     "end_time": "2022-01-27T05:47:40.352488Z",
     "start_time": "2022-01-27T05:47:40.328488Z"
    }
   },
   "outputs": [],
   "source": [
    "o_auth_handler = tweepy.OAuthHandler(consumer_key, consumer_secret)\n",
    "o_auth_handler.set_access_token(access_token, access_token_secret)\n",
    "tweepy_api = tweepy.API(o_auth_handler, wait_on_rate_limit=True)"
   ]
  },
  {
   "cell_type": "code",
   "execution_count": 5,
   "id": "0344703c",
   "metadata": {
    "ExecuteTime": {
     "end_time": "2022-01-27T05:47:40.384488Z",
     "start_time": "2022-01-27T05:47:40.361486Z"
    }
   },
   "outputs": [],
   "source": [
    "#Dept of Agriculture, Food and the Marine\n",
    "screen_name = \"agriculture_ie\""
   ]
  },
  {
   "cell_type": "code",
   "execution_count": 6,
   "id": "86975311",
   "metadata": {
    "ExecuteTime": {
     "end_time": "2022-01-27T05:47:41.037638Z",
     "start_time": "2022-01-27T05:47:40.390491Z"
    }
   },
   "outputs": [],
   "source": [
    "tweets = tweepy_api.user_timeline(\n",
    "    screen_name=screen_name,\n",
    "    count=200,  # 200 is the maximum allowed count\n",
    "    include_rts=False,\n",
    "    tweet_mode=\"extended\"\n",
    ")  # Necessary to keep full_text otherwise only the first 140 words are extracted"
   ]
  },
  {
   "cell_type": "code",
   "execution_count": 7,
   "id": "ea075597",
   "metadata": {
    "ExecuteTime": {
     "end_time": "2022-01-27T05:47:41.053659Z",
     "start_time": "2022-01-27T05:47:41.039671Z"
    }
   },
   "outputs": [
    {
     "name": "stdout",
     "output_type": "stream",
     "text": [
      "ID: 1486384591313293320\n",
      "2022-01-26 17:04:36+00:00\n",
      "Reopening the scheme,Minister @pippa_hackett said with 'expanding market opportunities for Irish organic produce and the drive for Irish farming to be more environmentally friendly, now is surely the time for all Irish farmers to give serious consideration to joining the scheme.'\n",
      "\n",
      "\n",
      "ID: 1486383042587418633\n",
      "2022-01-26 16:58:27+00:00\n",
      "Farmers could qualify for yearly payments of up to €220/ha during the conversion period and up to €170/ha for full organic status.\n",
      "\n",
      "Higher rates are available for organic #horticultural and #tillage farmers\n",
      "\n",
      "For a guide to the application process, visit: https://t.co/wPRP91ZYJU\n",
      "\n",
      "\n",
      "ID: 1486383040310005765\n",
      "2022-01-26 16:58:27+00:00\n",
      "New applicants interested in converting to #organic farming can apply to our Organic Farming Scheme when it reopens on Wednesday, February 9 with the budget increased by a further €5 million for new entrants\n",
      "🗓️Farmers have until Friday, April 8 to apply\n",
      "📍https://t.co/Chd5TGz9uZ https://t.co/Dce9isNU8g\n",
      "\n",
      "\n"
     ]
    }
   ],
   "source": [
    "for tweet in tweets[:3]:\n",
    "    print(\"ID: {}\".format(tweet.id))\n",
    "    print(tweet.created_at)\n",
    "    print(tweet.full_text)\n",
    "    print(\"\\n\")"
   ]
  },
  {
   "cell_type": "code",
   "execution_count": 8,
   "id": "9aba06fe",
   "metadata": {
    "ExecuteTime": {
     "end_time": "2022-01-27T05:47:52.411779Z",
     "start_time": "2022-01-27T05:47:41.056664Z"
    }
   },
   "outputs": [
    {
     "name": "stdout",
     "output_type": "stream",
     "text": [
      "N of tweets downloaded till now 249\n",
      "N of tweets downloaded till now 383\n",
      "N of tweets downloaded till now 534\n",
      "N of tweets downloaded till now 676\n",
      "N of tweets downloaded till now 832\n",
      "N of tweets downloaded till now 992\n",
      "N of tweets downloaded till now 1170\n",
      "N of tweets downloaded till now 1340\n",
      "N of tweets downloaded till now 1478\n",
      "N of tweets downloaded till now 1594\n",
      "N of tweets downloaded till now 1715\n",
      "N of tweets downloaded till now 1827\n",
      "N of tweets downloaded till now 1934\n",
      "N of tweets downloaded till now 2058\n",
      "N of tweets downloaded till now 2172\n",
      "N of tweets downloaded till now 2205\n"
     ]
    }
   ],
   "source": [
    "#extract additional tweets\n",
    "\n",
    "all_tweets = []\n",
    "all_tweets.extend(tweets)\n",
    "oldest_id = tweets[-1].id\n",
    "while True:\n",
    "    tweets = tweepy_api.user_timeline(\n",
    "        screen_name=screen_name,\n",
    "        count=200,# 200 is the maximum allowed count\n",
    "        include_rts=False,\n",
    "        max_id=oldest_id - 1,\n",
    "        # Necessary to keep full_text\n",
    "        # otherwise only the first 140 words are extracted\n",
    "        tweet_mode='extended')\n",
    "    if len(tweets) == 0:\n",
    "        break\n",
    "    oldest_id = tweets[-1].id\n",
    "    all_tweets.extend(tweets)\n",
    "    print('N of tweets downloaded till now {}'.format(len(all_tweets)))"
   ]
  },
  {
   "cell_type": "code",
   "execution_count": 9,
   "id": "e5a1e684",
   "metadata": {
    "ExecuteTime": {
     "end_time": "2022-01-27T05:47:52.443781Z",
     "start_time": "2022-01-27T05:47:52.414783Z"
    }
   },
   "outputs": [],
   "source": [
    "tweets_list: list = [[\n",
    "    tweet.id_str, tweet.user.screen_name, tweet.created_at,\n",
    "    tweet.favorite_count, tweet.retweet_count,\n",
    "    tweet.full_text.encode(\"utf-8\").decode(\"utf-8\")\n",
    "] for idx, tweet in enumerate(all_tweets)]"
   ]
  },
  {
   "cell_type": "code",
   "execution_count": 10,
   "id": "0a0ad812",
   "metadata": {
    "ExecuteTime": {
     "end_time": "2022-01-27T05:47:52.587778Z",
     "start_time": "2022-01-27T05:47:52.449783Z"
    }
   },
   "outputs": [
    {
     "data": {
      "text/html": [
       "<div>\n",
       "<style scoped>\n",
       "    .dataframe tbody tr th:only-of-type {\n",
       "        vertical-align: middle;\n",
       "    }\n",
       "\n",
       "    .dataframe tbody tr th {\n",
       "        vertical-align: top;\n",
       "    }\n",
       "\n",
       "    .dataframe thead th {\n",
       "        text-align: right;\n",
       "    }\n",
       "</style>\n",
       "<table border=\"1\" class=\"dataframe\">\n",
       "  <thead>\n",
       "    <tr style=\"text-align: right;\">\n",
       "      <th></th>\n",
       "      <th>id</th>\n",
       "      <th>screen_name</th>\n",
       "      <th>created_at</th>\n",
       "      <th>favorite_count</th>\n",
       "      <th>retweet_count</th>\n",
       "      <th>text</th>\n",
       "    </tr>\n",
       "  </thead>\n",
       "  <tbody>\n",
       "    <tr>\n",
       "      <th>0</th>\n",
       "      <td>1486384591313293320</td>\n",
       "      <td>agriculture_ie</td>\n",
       "      <td>2022-01-26 17:04:36+00:00</td>\n",
       "      <td>5</td>\n",
       "      <td>5</td>\n",
       "      <td>Reopening the scheme,Minister @pippa_hackett s...</td>\n",
       "    </tr>\n",
       "    <tr>\n",
       "      <th>1</th>\n",
       "      <td>1486383042587418633</td>\n",
       "      <td>agriculture_ie</td>\n",
       "      <td>2022-01-26 16:58:27+00:00</td>\n",
       "      <td>3</td>\n",
       "      <td>3</td>\n",
       "      <td>Farmers could qualify for yearly payments of u...</td>\n",
       "    </tr>\n",
       "    <tr>\n",
       "      <th>2</th>\n",
       "      <td>1486383040310005765</td>\n",
       "      <td>agriculture_ie</td>\n",
       "      <td>2022-01-26 16:58:27+00:00</td>\n",
       "      <td>24</td>\n",
       "      <td>30</td>\n",
       "      <td>New applicants interested in converting to #or...</td>\n",
       "    </tr>\n",
       "  </tbody>\n",
       "</table>\n",
       "</div>"
      ],
      "text/plain": [
       "                    id     screen_name                created_at  \\\n",
       "0  1486384591313293320  agriculture_ie 2022-01-26 17:04:36+00:00   \n",
       "1  1486383042587418633  agriculture_ie 2022-01-26 16:58:27+00:00   \n",
       "2  1486383040310005765  agriculture_ie 2022-01-26 16:58:27+00:00   \n",
       "\n",
       "   favorite_count  retweet_count  \\\n",
       "0               5              5   \n",
       "1               3              3   \n",
       "2              24             30   \n",
       "\n",
       "                                                text  \n",
       "0  Reopening the scheme,Minister @pippa_hackett s...  \n",
       "1  Farmers could qualify for yearly payments of u...  \n",
       "2  New applicants interested in converting to #or...  "
      ]
     },
     "execution_count": 10,
     "metadata": {},
     "output_type": "execute_result"
    }
   ],
   "source": [
    "tweet_columns = [\n",
    "    \"id\", \"screen_name\", \"created_at\", \"favorite_count\", \"retweet_count\",\n",
    "    \"text\"\n",
    "]\n",
    "dataframe = DataFrame(tweets_list, columns=tweet_columns)\n",
    "dataframe.to_csv('./../assets/twitter-agriculture-ie.csv', index=False)\n",
    "dataframe.head(3)"
   ]
  }
 ],
 "metadata": {
  "kernelspec": {
   "display_name": "Python 3 (ipykernel)",
   "language": "python",
   "name": "python3"
  },
  "language_info": {
   "codemirror_mode": {
    "name": "ipython",
    "version": 3
   },
   "file_extension": ".py",
   "mimetype": "text/x-python",
   "name": "python",
   "nbconvert_exporter": "python",
   "pygments_lexer": "ipython3",
   "version": "3.8.12"
  },
  "toc": {
   "base_numbering": 1,
   "nav_menu": {},
   "number_sections": false,
   "sideBar": true,
   "skip_h1_title": false,
   "title_cell": "Table of Contents",
   "title_sidebar": "Contents",
   "toc_cell": false,
   "toc_position": {},
   "toc_section_display": true,
   "toc_window_display": false
  }
 },
 "nbformat": 4,
 "nbformat_minor": 5
}
